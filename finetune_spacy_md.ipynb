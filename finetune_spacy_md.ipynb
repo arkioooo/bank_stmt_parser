{
 "cells": [
  {
   "cell_type": "code",
   "execution_count": 5,
   "id": "64c8281e",
   "metadata": {},
   "outputs": [],
   "source": [
    "import random\n",
    "\n",
    "import spacy\n",
    "nlp = spacy.load(\"en_core_web_md\")\n",
    "import en_core_web_md\n",
    "nlp = en_core_web_md.load()\n",
    "\n",
    "from spacy.util import minibatch, compounding\n",
    "from spacy.training import Example\n",
    "from spacy.language import Language\n",
    "import re"
   ]
  },
  {
   "cell_type": "code",
   "execution_count": 15,
   "id": "f01c643d",
   "metadata": {},
   "outputs": [
    {
     "name": "stdout",
     "output_type": "stream",
     "text": [
      "[('Hello', 'INTJ'), ('World', 'PROPN'), (',', 'PUNCT'), ('Apple', 'PROPN'), ('INC', 'PROPN'), (',', 'PUNCT'), ('-', 'PUNCT'), ('-', 'PUNCT'), ('1234', 'NUM')]\n"
     ]
    }
   ],
   "source": [
    "#test\n",
    "doc = nlp(\"Hello World, Apple INC, - - 1234\")\n",
    "print([(w.text, w.pos_) for w in doc])"
   ]
  },
  {
   "cell_type": "code",
   "execution_count": 6,
   "id": "89afb165",
   "metadata": {},
   "outputs": [
    {
     "name": "stdout",
     "output_type": "stream",
     "text": [
      "Iteration 0, Losses: {'ner': np.float32(17.992395)}\n",
      "Iteration 25, Losses: {'ner': np.float32(3.0380247)}\n",
      "Iteration 50, Losses: {'ner': np.float32(0.002953638)}\n",
      "Iteration 75, Losses: {'ner': np.float32(1.3937567e-05)}\n"
     ]
    }
   ],
   "source": [
    "import spacy\n",
    "from spacy.training import Example\n",
    "from spacy.util import minibatch, compounding\n",
    "import random\n",
    "from spacy.language import Language\n",
    "\n",
    "nlp = spacy.load(\"en_core_web_md\")\n",
    "if \"ner\" in nlp.pipe_names:\n",
    "    nlp.remove_pipe(\"ner\")\n",
    "ner = nlp.add_pipe(\"ner\")\n",
    "\n",
    "custom_labels = [\"TransactionType\"]\n",
    "standard_labels = [\"PERSON\", \"ORG\", \"GPE\", \"MONEY\", \"CARDINAL\"]\n",
    "for label in custom_labels + standard_labels:\n",
    "    ner.add_label(label)\n",
    "\n",
    "# Define training data\n",
    "TRAIN_DATA = [\n",
    "    (\"NEFT\", {\"entities\": [(0, 4, \"TransactionType\")]}),\n",
    "    (\"RTGS\", {\"entities\": [(0, 4, \"TransactionType\")]}),\n",
    "    (\"ACH/JAL\", {\"entities\": [(0, 7, \"TransactionType\")]}),\n",
    "    (\"NTS\", {\"entities\": [(0, 3, \"TransactionType\")]}),\n",
    "    (\"IMPS\", {\"entities\": [(0, 4, \"TransactionType\")]}),\n",
    "    (\"UPI\", {\"entities\": [(0, 3, \"TransactionType\")]}),\n",
    "    (\"NACH\", {\"entities\": [(0, 4, \"TransactionType\")]}),\n",
    "    (\"FT\", {\"entities\": [(0, 2, \"TransactionType\")]}),\n",
    "    (\"BHIM UPI\", {\"entities\": [(5, 8, \"TransactionType\")]}),\n",
    "    (\"DD\", {\"entities\": [(0, 2, \"TransactionType\")]}),\n",
    "    (\"ECS\", {\"entities\": [(0, 3, \"TransactionType\")]}),\n",
    "    (\"AEPS\", {\"entities\": [(0, 4, \"TransactionType\")]}),\n",
    "    (\"NEFTIN\", {\"entities\": [(0, 6, \"TransactionType\")]}),\n",
    "    (\"RTGSIN\", {\"entities\": [(0, 6, \"TransactionType\")]}),\n",
    "    (\"SWIFT\", {\"entities\": [(0, 5, \"TransactionType\")]}),\n",
    "    (\"POS\", {\"entities\": [(0, 3, \"TransactionType\")]})\n",
    "    \n",
    "]\n",
    "\n",
    "@Language.component(\"custom_filter\")\n",
    "def custom_filter(doc):\n",
    "    entities = []\n",
    "    for ent in doc.ents:\n",
    "        # Only keep uppercase transaction types with correct length\n",
    "        if ent.text.isupper() and 2 <= len(ent.text) <= 6:\n",
    "            entities.append(ent)\n",
    "        elif ent.label_ in [\"ORG\", \"PERSON\", \"GPE\", \"MONEY\", \"CARDINAL\"]:\n",
    "            entities.append(ent)\n",
    "    doc.ents = entities\n",
    "    return doc\n",
    "\n",
    "# Add the custom filter component to the pipeline\n",
    "nlp.add_pipe(\"custom_filter\", after=\"ner\")\n",
    "\n",
    "n_iter = 100\n",
    "batch_size = 4\n",
    "\n",
    "# Training loop with higher dropout\n",
    "with nlp.disable_pipes(*[pipe for pipe in nlp.pipe_names if pipe != \"ner\"]):\n",
    "    optimizer = nlp.begin_training()\n",
    "    for itn in range(n_iter):\n",
    "        random.shuffle(TRAIN_DATA)\n",
    "        losses = {}\n",
    "        batches = minibatch(TRAIN_DATA, size=compounding(4.0, 32.0, 1.001))\n",
    "        \n",
    "        for batch in batches:\n",
    "            examples = []\n",
    "            for text, annotations in batch:\n",
    "                doc = nlp.make_doc(text)\n",
    "                example = Example.from_dict(doc, annotations)\n",
    "                examples.append(example)\n",
    "            nlp.update(examples, drop=0.5, losses=losses)  # Reduced dropout\n",
    "        if itn % 25 == 0:\n",
    "            print(f\"Iteration {itn}, Losses: {losses}\")\n",
    "\n",
    "# Save the model\n",
    "nlp.to_disk(\"./improved_ner_model\")"
   ]
  },
  {
   "cell_type": "code",
   "execution_count": 7,
   "id": "9c57fcfd",
   "metadata": {},
   "outputs": [
    {
     "name": "stdout",
     "output_type": "stream",
     "text": [
      "\n",
      "Text: RTGS transfer from SUDHAKARA INFRATECH PRIVATE LIMITED\n",
      "Entities: [('RTGS', 'TransactionType')]\n",
      "\n",
      "Text: NEFT payment to INFRATECH\n",
      "Entities: [('NEFT', 'TransactionType')]\n",
      "\n",
      "Text: UPI transaction with PRIVATE\n",
      "Entities: [('UPI', 'TransactionType')]\n",
      "\n",
      "Text: NEFT Cr-SBIN-SBIN0020828-SUDHAKARA INFRATECHPVT LTD\n",
      "Entities: [('NEFT', 'TransactionType'), ('SBIN', 'TransactionType'), ('LTD', 'TransactionType')]\n"
     ]
    }
   ],
   "source": [
    "nlp = spacy.load(\"./improved_ner_model\")\n",
    "test_texts = [\n",
    "    \"RTGS transfer from SUDHAKARA INFRATECH PRIVATE LIMITED\",\n",
    "    \"NEFT payment to INFRATECH\",\n",
    "    \"UPI transaction with PRIVATE\",\n",
    "    \"NEFT Cr-SBIN-SBIN0020828-SUDHAKARA INFRATECHPVT LTD\"\n",
    "]\n",
    "\n",
    "for text in test_texts:\n",
    "    doc = nlp(text)\n",
    "    print(\"\\nText:\", text)\n",
    "    print(\"Entities:\", [(ent.text, ent.label_) for ent in doc.ents])"
   ]
  }
 ],
 "metadata": {
  "kernelspec": {
   "display_name": ".venv",
   "language": "python",
   "name": "python3"
  },
  "language_info": {
   "codemirror_mode": {
    "name": "ipython",
    "version": 3
   },
   "file_extension": ".py",
   "mimetype": "text/x-python",
   "name": "python",
   "nbconvert_exporter": "python",
   "pygments_lexer": "ipython3",
   "version": "3.11.0"
  }
 },
 "nbformat": 4,
 "nbformat_minor": 5
}
